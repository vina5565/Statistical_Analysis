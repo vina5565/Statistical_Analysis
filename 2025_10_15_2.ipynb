{
 "cells": [
  {
   "cell_type": "code",
   "execution_count": 7,
   "id": "3b4fc3e4-2e6e-48d5-adbb-f7f492605a0d",
   "metadata": {},
   "outputs": [],
   "source": [
    "import numpy as np\n",
    "import pandas as pd\n",
    "import matplotlib.pyplot as plt\n",
    "\n",
    "%precision 3\n",
    "%matplotlib inline"
   ]
  },
  {
   "cell_type": "code",
   "execution_count": 8,
   "id": "24a5a86a-f10a-4d30-9088-0f1f62afc8ad",
   "metadata": {},
   "outputs": [],
   "source": [
    "x_set = np.array([1, 2, 3, 4, 5, 6])"
   ]
  },
  {
   "cell_type": "code",
   "execution_count": 9,
   "id": "b67daeac-0d12-46eb-8a77-5abed3a1b6f7",
   "metadata": {},
   "outputs": [],
   "source": [
    "def f(x) :\n",
    "    if x in x_set :\n",
    "        return x / 21\n",
    "    else : \n",
    "        return 0"
   ]
  },
  {
   "cell_type": "code",
   "execution_count": 10,
   "id": "1343d5e5-8727-4416-9ea3-f5e14158853f",
   "metadata": {},
   "outputs": [],
   "source": [
    "X = [x_set, f]"
   ]
  },
  {
   "cell_type": "code",
   "execution_count": 11,
   "id": "d29fd46c-0cc4-406c-83f3-e67196816d0b",
   "metadata": {},
   "outputs": [
    {
     "data": {
      "text/plain": [
       "{np.int64(1): 0.048,\n",
       " np.int64(2): 0.095,\n",
       " np.int64(3): 0.143,\n",
       " np.int64(4): 0.190,\n",
       " np.int64(5): 0.238,\n",
       " np.int64(6): 0.286}"
      ]
     },
     "execution_count": 11,
     "metadata": {},
     "output_type": "execute_result"
    }
   ],
   "source": [
    "prob = np.array([f(x_k) for x_k in x_set])\n",
    "\n",
    "dict(zip(x_set, prob))"
   ]
  },
  {
   "cell_type": "code",
   "execution_count": 12,
   "id": "20aa1eae-c163-4fef-a7f3-566ce9e6509b",
   "metadata": {},
   "outputs": [
    {
     "data": {
      "image/png": "[encoded data removed]",
      "text/plain": [
       "<Figure size 1000x600 with 1 Axes>"
      ]
     },
     "metadata": {},
     "output_type": "display_data"
    }
   ],
   "source": [
    "fig = plt.figure(figsize = (10, 6))\n",
    "ax = fig.add_subplot(111)\n",
    "ax.bar(x_set, prob)\n",
    "ax.set_xlabel('value')\n",
    "ax.set_ylabel('probability')\n",
    "\n",
    "plt.show()"
   ]
  },
  {
   "cell_type": "code",
   "execution_count": 13,
   "id": "0070b775-0ed6-44d2-942a-4dfe5c9cd9e5",
   "metadata": {},
   "outputs": [],
   "source": [
    "a = {'사과' : 1, '딸기' : 5, '귤' : 10}"
   ]
  },
  {
   "cell_type": "code",
   "execution_count": 14,
   "id": "ecd9ef4b-e0d2-4ffc-9c73-177d8aa8b39f",
   "metadata": {},
   "outputs": [
    {
     "data": {
      "text/plain": [
       "{'귤 : 10', '딸기 : 5', '사과 : 1'}"
      ]
     },
     "execution_count": 14,
     "metadata": {},
     "output_type": "execute_result"
    }
   ],
   "source": [
    "a"
   ]
  },
  {
   "cell_type": "code",
   "execution_count": 15,
   "id": "03586b66-11d2-4551-aafa-c74815fb5f28",
   "metadata": {},
   "outputs": [
    {
     "data": {
      "text/plain": [
       "{('초콜릿', 200): 20, ('마카롱', 500): 15, ('쿠키', 300): 30}"
      ]
     },
     "execution_count": 15,
     "metadata": {},
     "output_type": "execute_result"
    }
   ],
   "source": [
    "a = {('초콜릿', 200) : 20, ('마카롱', 500) : 15, ('쿠키', 300) : 30}\n",
    "a"
   ]
  },
  {
   "cell_type": "code",
   "execution_count": 18,
   "id": "47b17b1c-48ff-4fc9-a5bb-df5d6129f07e",
   "metadata": {},
   "outputs": [
    {
     "data": {
      "text/plain": [
       "5"
      ]
     },
     "execution_count": 18,
     "metadata": {},
     "output_type": "execute_result"
    }
   ],
   "source": [
    "a = {'사과' : 1, '딸기' : 5, '귤' : 10}\n",
    "v1 = a['딸기']\n",
    "v1"
   ]
  },
  {
   "cell_type": "code",
   "execution_count": 19,
   "id": "acf00e39-1d87-4a65-9114-18a9ed47b069",
   "metadata": {},
   "outputs": [
    {
     "ename": "KeyError",
     "evalue": "'레몬'",
     "output_type": "error",
     "traceback": [
      "\u001b[1;31m---------------------------------------------------------------------------\u001b[0m",
      "\u001b[1;31mKeyError\u001b[0m                                  Traceback (most recent call last)",
      "Cell \u001b[1;32mIn[19], line 1\u001b[0m\n\u001b[1;32m----> 1\u001b[0m v2 \u001b[38;5;241m=\u001b[39m a[\u001b[38;5;124m'\u001b[39m\u001b[38;5;124m레몬\u001b[39m\u001b[38;5;124m'\u001b[39m]\n\u001b[0;32m      2\u001b[0m v2\n",
      "\u001b[1;31mKeyError\u001b[0m: '레몬'"
     ]
    }
   ],
   "source": [
    "v2 = a['레몬']\n",
    "v2"
   ]
  },
  {
   "cell_type": "code",
   "execution_count": 20,
   "id": "7e948eb5-f064-437e-a96c-bdba91105d37",
   "metadata": {},
   "outputs": [
    {
     "data": {
      "text/plain": [
       "True"
      ]
     },
     "execution_count": 20,
     "metadata": {},
     "output_type": "execute_result"
    }
   ],
   "source": [
    "f1 = '딸기' in a\n",
    "f1"
   ]
  },
  {
   "cell_type": "code",
   "execution_count": 21,
   "id": "59b43902-3da4-4357-839b-fbce3ca9c0ee",
   "metadata": {},
   "outputs": [
    {
     "data": {
      "text/plain": [
       "True"
      ]
     },
     "execution_count": 21,
     "metadata": {},
     "output_type": "execute_result"
    }
   ],
   "source": [
    "f2 = '레몬' not in a\n",
    "f2"
   ]
  },
  {
   "cell_type": "code",
   "execution_count": 22,
   "id": "cbb1add9-ce1c-40ac-b285-d890ec2ffda2",
   "metadata": {},
   "outputs": [
    {
     "data": {
      "text/plain": [
       "False"
      ]
     },
     "execution_count": 22,
     "metadata": {},
     "output_type": "execute_result"
    }
   ],
   "source": [
    "f3 = '레몬' in a\n",
    "f3"
   ]
  },
  {
   "cell_type": "code",
   "execution_count": 23,
   "id": "e9c66b35-be11-464c-b816-ca8d3038262d",
   "metadata": {},
   "outputs": [
    {
     "data": {
      "text/plain": [
       "5"
      ]
     },
     "execution_count": 23,
     "metadata": {},
     "output_type": "execute_result"
    }
   ],
   "source": [
    "v1 = a.get('딸기')\n",
    "v1"
   ]
  },
  {
   "cell_type": "code",
   "execution_count": 24,
   "id": "a643d3c8-9f30-453d-aee5-2a6379d04ad2",
   "metadata": {},
   "outputs": [],
   "source": [
    "v2 = a.get('레몬')\n",
    "v2"
   ]
  },
  {
   "cell_type": "code",
   "execution_count": 25,
   "id": "1d4ec9a6-c5f7-40e9-932f-56bc141f2d73",
   "metadata": {},
   "outputs": [
    {
     "data": {
      "text/plain": [
       "{'초콜릿': 'One', '마카롱': 'Two', '쿠키': 'Three'}"
      ]
     },
     "execution_count": 25,
     "metadata": {},
     "output_type": "execute_result"
    }
   ],
   "source": [
    "a = {'초콜릿' : 1, '마카롱' : 2, '쿠키' : 3}\n",
    "a['초콜릿'] = 'One'\n",
    "a['마카롱'] = 'Two'\n",
    "a['쿠키'] = 'Three'\n",
    "a"
   ]
  },
  {
   "cell_type": "code",
   "execution_count": 26,
   "id": "9a26c707-d6c6-4156-af09-b2b09be4e65f",
   "metadata": {},
   "outputs": [
    {
     "data": {
      "text/plain": [
       "{'초콜릿': 20, '마카롱': 15, '쿠키': 30}"
      ]
     },
     "execution_count": 26,
     "metadata": {},
     "output_type": "execute_result"
    }
   ],
   "source": [
    "d = dict(초콜릿 = 20, 마카롱 = 15, 쿠키 = 30)\n",
    "d"
   ]
  },
  {
   "cell_type": "code",
   "execution_count": 27,
   "id": "78ff81a6-ece4-4ba0-be36-16d5b5228e1a",
   "metadata": {},
   "outputs": [
    {
     "data": {
      "text/plain": [
       "{'초콜릿': 20, '마카롱': 15, '쿠키': 30}"
      ]
     },
     "execution_count": 27,
     "metadata": {},
     "output_type": "execute_result"
    }
   ],
   "source": [
    "key = ['초콜릿', '마카롱', '쿠키']\n",
    "value = [20, 15, 30]\n",
    "d = dict(zip(key, value))\n",
    "d"
   ]
  },
  {
   "cell_type": "code",
   "execution_count": 28,
   "id": "ef60bbc1-a43f-4bcf-a8a9-383e597c306f",
   "metadata": {},
   "outputs": [
    {
     "data": {
      "text/plain": [
       "{'초콜릿': 20, '마카롱': 15, '쿠키': 30}"
      ]
     },
     "execution_count": 28,
     "metadata": {},
     "output_type": "execute_result"
    }
   ],
   "source": [
    "d = dict([('초콜릿', 20), ('마카롱', 15), ('쿠키', 30)])\n",
    "d"
   ]
  },
  {
   "cell_type": "code",
   "execution_count": 29,
   "id": "775a388c-6121-4a8f-be7f-4fe5eaf0888f",
   "metadata": {},
   "outputs": [
    {
     "data": {
      "text/plain": [
       "np.True_"
      ]
     },
     "execution_count": 29,
     "metadata": {},
     "output_type": "execute_result"
    }
   ],
   "source": [
    "np.all(prob >= 0)"
   ]
  },
  {
   "cell_type": "code",
   "execution_count": 30,
   "id": "99a8f74c-ac54-4af6-bc82-74b8e732fe1d",
   "metadata": {},
   "outputs": [
    {
     "data": {
      "text/plain": [
       "1.000"
      ]
     },
     "execution_count": 30,
     "metadata": {},
     "output_type": "execute_result"
    }
   ],
   "source": [
    "np.sum(prob)"
   ]
  },
  {
   "cell_type": "code",
   "execution_count": 31,
   "id": "1713dccf-f113-4c48-9c22-b952df651528",
   "metadata": {},
   "outputs": [],
   "source": [
    "def F(x) :\n",
    "    return np.sum([f(x_k) for x_k in x_set if x_k <= x])"
   ]
  },
  {
   "cell_type": "code",
   "execution_count": 32,
   "id": "3c176fd6-8ba7-417d-9020-65f9dc5d89d1",
   "metadata": {},
   "outputs": [
    {
     "data": {
      "text/plain": [
       "0.286"
      ]
     },
     "execution_count": 32,
     "metadata": {},
     "output_type": "execute_result"
    }
   ],
   "source": [
    "F(3)"
   ]
  },
  {
   "cell_type": "code",
   "execution_count": 34,
   "id": "f4d3d726-ae93-4089-bf9a-18dc9831c176",
   "metadata": {},
   "outputs": [
    {
     "data": {
      "text/plain": [
       "{np.int64(5): 0.048,\n",
       " np.int64(7): 0.095,\n",
       " np.int64(9): 0.143,\n",
       " np.int64(11): 0.190,\n",
       " np.int64(13): 0.238,\n",
       " np.int64(15): 0.286}"
      ]
     },
     "execution_count": 34,
     "metadata": {},
     "output_type": "execute_result"
    }
   ],
   "source": [
    "y_set = np.array([2 * x_k + 3 for x_k in x_set])\n",
    "prob = np.array([f(x_k) for x_k in x_set])\n",
    "dict(zip(y_set, prob))"
   ]
  },
  {
   "cell_type": "code",
   "execution_count": 35,
   "id": "df66b801-6535-47ad-b8ef-d66e3deeaf85",
   "metadata": {},
   "outputs": [
    {
     "data": {
      "text/plain": [
       "4.333"
      ]
     },
     "execution_count": 35,
     "metadata": {},
     "output_type": "execute_result"
    }
   ],
   "source": [
    "np.sum([x_k * f(x_k) for x_k in x_set])"
   ]
  },
  {
   "cell_type": "code",
   "execution_count": 36,
   "id": "dedaf768-27b0-4745-9411-0c74608dbb55",
   "metadata": {},
   "outputs": [
    {
     "data": {
      "text/plain": [
       "array([1, 0, 4, 3, 2], dtype=int32)"
      ]
     },
     "execution_count": 36,
     "metadata": {},
     "output_type": "execute_result"
    }
   ],
   "source": [
    "np.random.choice(5, 5, replace = False)"
   ]
  },
  {
   "cell_type": "code",
   "execution_count": 38,
   "id": "018f7878-6704-488d-bfd3-15d845da49a7",
   "metadata": {},
   "outputs": [
    {
     "data": {
      "text/plain": [
       "array([4, 3, 0], dtype=int32)"
      ]
     },
     "execution_count": 38,
     "metadata": {},
     "output_type": "execute_result"
    }
   ],
   "source": [
    "np.random.choice(5, 3, replace = False)"
   ]
  },
  {
   "cell_type": "code",
   "execution_count": 39,
   "id": "a77937db-91c3-4694-b1f6-c4539ca054df",
   "metadata": {},
   "outputs": [
    {
     "data": {
      "text/plain": [
       "array([4, 4, 1, 3, 3, 3, 4, 3, 3, 4], dtype=int32)"
      ]
     },
     "execution_count": 39,
     "metadata": {},
     "output_type": "execute_result"
    }
   ],
   "source": [
    "np.random.choice(5, 10)"
   ]
  },
  {
   "cell_type": "code",
   "execution_count": 40,
   "id": "15d2ada1-3292-4737-a081-de3a5f79a3ca",
   "metadata": {},
   "outputs": [
    {
     "data": {
      "text/plain": [
       "array([3, 0, 2, 2, 2, 0, 2, 2, 2, 3], dtype=int32)"
      ]
     },
     "execution_count": 40,
     "metadata": {},
     "output_type": "execute_result"
    }
   ],
   "source": [
    "np.random.choice(5, 10, p = [0.1, 0, 0.3, 0.6, 0])"
   ]
  },
  {
   "cell_type": "code",
   "execution_count": 45,
   "id": "f071af82-e59c-421c-9b3c-9580998a1f5b",
   "metadata": {},
   "outputs": [
    {
     "data": {
      "text/plain": [
       "4.333"
      ]
     },
     "execution_count": 45,
     "metadata": {},
     "output_type": "execute_result"
    }
   ],
   "source": [
    "sample = np.random.choice(x_set, int(1e6), p = prob)\n",
    "np.mean(sample)"
   ]
  },
  {
   "cell_type": "code",
   "execution_count": 42,
   "id": "5b6a7547-8cca-480f-80ce-ae38b00c01f6",
   "metadata": {},
   "outputs": [],
   "source": [
    "def E(X, g = lambda x : x) :\n",
    "    x_set, f = X\n",
    "    return np.sum([g(x_k) * f(x_k) for x_k in x_set])"
   ]
  },
  {
   "cell_type": "code",
   "execution_count": 43,
   "id": "c6ec1e4d-9d9a-4554-af23-7a5912cb6379",
   "metadata": {},
   "outputs": [
    {
     "data": {
      "text/plain": [
       "4.333"
      ]
     },
     "execution_count": 43,
     "metadata": {},
     "output_type": "execute_result"
    }
   ],
   "source": [
    "E(X)"
   ]
  },
  {
   "cell_type": "code",
   "execution_count": 46,
   "id": "9c76988c-17dd-4767-9992-b80a30bdb3fb",
   "metadata": {},
   "outputs": [
    {
     "data": {
      "text/plain": [
       "11.667"
      ]
     },
     "execution_count": 46,
     "metadata": {},
     "output_type": "execute_result"
    }
   ],
   "source": [
    "E(X, g = lambda x : 2 * x + 3)"
   ]
  },
  {
   "cell_type": "code",
   "execution_count": 47,
   "id": "2d816216-8bf3-4463-82ed-fc7a43cf0c89",
   "metadata": {},
   "outputs": [
    {
     "data": {
      "text/plain": [
       "11.667"
      ]
     },
     "execution_count": 47,
     "metadata": {},
     "output_type": "execute_result"
    }
   ],
   "source": [
    "2 * E(X) + 3"
   ]
  },
  {
   "cell_type": "code",
   "execution_count": 48,
   "id": "a0b8e713-0957-479d-a870-3f8537e63ad3",
   "metadata": {},
   "outputs": [],
   "source": [
    "strings = ['hyeja', 'parkhyeja', 'youngtae', 'kimyoungtae', 'bbangtae']"
   ]
  },
  {
   "cell_type": "code",
   "execution_count": 50,
   "id": "9ff2066c-67a1-4e24-9e04-6a06f2264082",
   "metadata": {},
   "outputs": [],
   "source": [
    "strings.sort(key = lambda x : len(set(list(x))))"
   ]
  },
  {
   "cell_type": "code",
   "execution_count": 51,
   "id": "0f67c7b0-f6e0-475a-802b-dfe2769f8e0e",
   "metadata": {},
   "outputs": [
    {
     "data": {
      "text/plain": [
       "['hyeja', 'bbangtae', 'parkhyeja', 'youngtae', 'kimyoungtae']"
      ]
     },
     "execution_count": 51,
     "metadata": {},
     "output_type": "execute_result"
    }
   ],
   "source": [
    "strings"
   ]
  },
  {
   "cell_type": "code",
   "execution_count": 53,
   "id": "264378e6-0ea5-42e2-8779-fa06ecb1cd35",
   "metadata": {},
   "outputs": [
    {
     "data": {
      "text/plain": [
       "2.222"
      ]
     },
     "execution_count": 53,
     "metadata": {},
     "output_type": "execute_result"
    }
   ],
   "source": [
    "mean = E(X)\n",
    "np.sum([(x_k - mean) ** 2 * f(x_k) for x_k in x_set])"
   ]
  },
  {
   "cell_type": "code",
   "execution_count": 60,
   "id": "250dd456-6519-44dd-84a5-15567fa49ac4",
   "metadata": {},
   "outputs": [],
   "source": [
    "def V(X, g = lambda x : x) :\n",
    "    x_set, f = X\n",
    "    mean = E(X, g)\n",
    "    return np.sum([(g(x_k) - mean) ** 2 * f(x_k) for x_k in x_set])"
   ]
  },
  {
   "cell_type": "code",
   "execution_count": 61,
   "id": "d6f566c9-3b41-4f3d-bf66-164bffd6d401",
   "metadata": {},
   "outputs": [
    {
     "data": {
      "text/plain": [
       "2.222"
      ]
     },
     "execution_count": 61,
     "metadata": {},
     "output_type": "execute_result"
    }
   ],
   "source": [
    "V(X)"
   ]
  },
  {
   "cell_type": "code",
   "execution_count": 62,
   "id": "6f84929c-82b4-40c5-bf26-c965604daaef",
   "metadata": {},
   "outputs": [
    {
     "data": {
      "text/plain": [
       "8.889"
      ]
     },
     "execution_count": 62,
     "metadata": {},
     "output_type": "execute_result"
    }
   ],
   "source": [
    "V(X, lambda x : 2 * x + 3)"
   ]
  },
  {
   "cell_type": "code",
   "execution_count": 63,
   "id": "577b1653-2cbd-4b26-96c7-665e7c1ab9ae",
   "metadata": {},
   "outputs": [
    {
     "data": {
      "text/plain": [
       "8.889"
      ]
     },
     "execution_count": 63,
     "metadata": {},
     "output_type": "execute_result"
    }
   ],
   "source": [
    "2 ** 2 * V(X)"
   ]
  },
  {
   "cell_type": "code",
   "execution_count": null,
   "id": "ae750bed-d1ef-4783-a0bf-ba0d4ac9a911",
   "metadata": {},
   "outputs": [],
   "source": []
  }
 ],
 "metadata": {
  "kernelspec": {
   "display_name": "Python 3 (ipykernel)",
   "language": "python",
   "name": "python3"
  },
  "language_info": {
   "codemirror_mode": {
    "name": "ipython",
    "version": 3
   },
   "file_extension": ".py",
   "mimetype": "text/x-python",
   "name": "python",
   "nbconvert_exporter": "python",
   "pygments_lexer": "ipython3",
   "version": "3.13.5"
  }
 },
 "nbformat": 4,
 "nbformat_minor": 5
}
