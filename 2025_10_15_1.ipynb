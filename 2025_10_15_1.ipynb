{
 "cells": [
  {
   "cell_type": "code",
   "execution_count": 33,
   "id": "00bc8362-9f9c-4720-8f9d-0458059f34f2",
   "metadata": {},
   "outputs": [],
   "source": [
    "import numpy as np\n",
    "import pandas as pd\n",
    "import matplotlib.pyplot as plt\n",
    "\n",
    "%precision 3\n",
    "%matplotlib inline"
   ]
  },
  {
   "cell_type": "code",
   "execution_count": 34,
   "id": "0e810f7e-6176-453a-a908-c6e2780c922d",
   "metadata": {},
   "outputs": [
    {
     "data": {
      "text/plain": [
       "array([76, 55, 80, 80, 74, 61, 81, 76, 23, 80])"
      ]
     },
     "execution_count": 34,
     "metadata": {},
     "output_type": "execute_result"
    }
   ],
   "source": [
    "df = pd.read_csv('../notebook/data/ch4_scores400.csv')\n",
    "scores = np.array(df['score'])\n",
    "scores[:10]"
   ]
  },
  {
   "cell_type": "code",
   "execution_count": 35,
   "id": "0f1be83a-a1d6-40b6-ac65-353462f00848",
   "metadata": {},
   "outputs": [
    {
     "data": {
      "text/plain": [
       "array([3, 2, 3])"
      ]
     },
     "execution_count": 35,
     "metadata": {},
     "output_type": "execute_result"
    }
   ],
   "source": [
    "np.random.choice([1, 2, 3], 3)"
   ]
  },
  {
   "cell_type": "code",
   "execution_count": 36,
   "id": "49d1b102-b63c-464a-bad4-5e799562f5bb",
   "metadata": {},
   "outputs": [
    {
     "data": {
      "text/plain": [
       "array([2, 3, 1])"
      ]
     },
     "execution_count": 36,
     "metadata": {},
     "output_type": "execute_result"
    }
   ],
   "source": [
    "np.random.choice([1, 2, 3], 3, replace = False)"
   ]
  },
  {
   "cell_type": "code",
   "execution_count": 37,
   "id": "270331a1-7c81-478d-89f0-5246bfb7d73a",
   "metadata": {},
   "outputs": [
    {
     "data": {
      "text/plain": [
       "array([1, 2, 1])"
      ]
     },
     "execution_count": 37,
     "metadata": {},
     "output_type": "execute_result"
    }
   ],
   "source": [
    "np.random.seed(0)\n",
    "np.random.choice([1, 2, 3], 3)"
   ]
  },
  {
   "cell_type": "code",
   "execution_count": 38,
   "id": "fa907b16-7079-470c-bb23-be5d348be516",
   "metadata": {},
   "outputs": [
    {
     "data": {
      "text/plain": [
       "70.400"
      ]
     },
     "execution_count": 38,
     "metadata": {},
     "output_type": "execute_result"
    }
   ],
   "source": [
    "np.random.seed(0)\n",
    "sample = np.random.choice(scores, 20)\n",
    "\n",
    "sample.mean()"
   ]
  },
  {
   "cell_type": "code",
   "execution_count": 39,
   "id": "c9bd3b4a-c990-461c-8b7b-961b9b756f33",
   "metadata": {},
   "outputs": [
    {
     "data": {
      "text/plain": [
       "69.530"
      ]
     },
     "execution_count": 39,
     "metadata": {},
     "output_type": "execute_result"
    }
   ],
   "source": [
    "scores.mean()"
   ]
  },
  {
   "cell_type": "code",
   "execution_count": 40,
   "id": "2999f50a-4851-49b4-a9c2-e5dafb49e9d1",
   "metadata": {},
   "outputs": [
    {
     "name": "stdout",
     "output_type": "stream",
     "text": [
      "1번째 무작위 추출로 얻은 표본 평균 72.45\n",
      "2번째 무작위 추출로 얻은 표본 평균 63.7\n",
      "3번째 무작위 추출로 얻은 표본 평균 66.05\n",
      "4번째 무작위 추출로 얻은 표본 평균 71.7\n",
      "5번째 무작위 추출로 얻은 표본 평균 74.15\n"
     ]
    }
   ],
   "source": [
    "for i in range(5) :\n",
    "    sample = np.random.choice(scores, 20)\n",
    "    print(f\"{i+1}번째 무작위 추출로 얻은 표본 평균\", sample.mean())"
   ]
  },
  {
   "cell_type": "code",
   "execution_count": 41,
   "id": "afcd9369-1864-4a96-990b-fece25e80cf4",
   "metadata": {},
   "outputs": [],
   "source": [
    "dice = [1, 2, 3, 4, 5, 6]\n",
    "prob = [1/21, 2/21, 3/21, 4/21, 5/21, 6/21]"
   ]
  },
  {
   "cell_type": "code",
   "execution_count": 42,
   "id": "4199c861-a6a2-4762-a7dc-6a4aa047732b",
   "metadata": {},
   "outputs": [
    {
     "data": {
      "text/plain": [
       "np.int64(1)"
      ]
     },
     "execution_count": 42,
     "metadata": {},
     "output_type": "execute_result"
    }
   ],
   "source": [
    "np.random.choice(dice, p=prob)"
   ]
  },
  {
   "cell_type": "code",
   "execution_count": 43,
   "id": "30b4154f-5e61-4706-bb04-1f52573af7d6",
   "metadata": {},
   "outputs": [
    {
     "data": {
      "text/plain": [
       "array([4, 6, 4, 5, 5, 6, 6, 3, 5, 6, 5, 6, 6, 2, 3, 1, 6, 5, 6, 3, 4, 5,\n",
       "       3, 4, 3, 5, 5, 4, 4, 6, 4, 6, 5, 6, 5, 4, 6, 2, 6, 4, 5, 3, 4, 6,\n",
       "       5, 5, 5, 3, 4, 5, 4, 4, 6, 4, 4, 6, 6, 2, 2, 4, 5, 1, 6, 4, 3, 2,\n",
       "       2, 6, 3, 5, 4, 2, 4, 4, 6, 6, 1, 5, 3, 6, 6, 4, 2, 1, 6, 4, 4, 2,\n",
       "       4, 1, 3, 6, 6, 6, 4, 5, 4, 3, 3, 4])"
      ]
     },
     "execution_count": 43,
     "metadata": {},
     "output_type": "execute_result"
    }
   ],
   "source": [
    "num_trial = 100\n",
    "sample = np.random.choice(dice, num_trial, p=prob)\n",
    "sample"
   ]
  },
  {
   "cell_type": "code",
   "execution_count": 44,
   "id": "87461d91-9490-4928-a311-076fbd6d1d8c",
   "metadata": {},
   "outputs": [
    {
     "data": {
      "text/html": [
       "<div>\n",
       "<style scoped>\n",
       "    .dataframe tbody tr th:only-of-type {\n",
       "        vertical-align: middle;\n",
       "    }\n",
       "\n",
       "    .dataframe tbody tr th {\n",
       "        vertical-align: top;\n",
       "    }\n",
       "\n",
       "    .dataframe thead th {\n",
       "        text-align: right;\n",
       "    }\n",
       "</style>\n",
       "<table border=\"1\" class=\"dataframe\">\n",
       "  <thead>\n",
       "    <tr style=\"text-align: right;\">\n",
       "      <th></th>\n",
       "      <th>frequency</th>\n",
       "      <th>relative frequency</th>\n",
       "    </tr>\n",
       "    <tr>\n",
       "      <th>dice</th>\n",
       "      <th></th>\n",
       "      <th></th>\n",
       "    </tr>\n",
       "  </thead>\n",
       "  <tbody>\n",
       "    <tr>\n",
       "      <th>1</th>\n",
       "      <td>5</td>\n",
       "      <td>0.05</td>\n",
       "    </tr>\n",
       "    <tr>\n",
       "      <th>2</th>\n",
       "      <td>9</td>\n",
       "      <td>0.09</td>\n",
       "    </tr>\n",
       "    <tr>\n",
       "      <th>3</th>\n",
       "      <td>13</td>\n",
       "      <td>0.13</td>\n",
       "    </tr>\n",
       "    <tr>\n",
       "      <th>4</th>\n",
       "      <td>27</td>\n",
       "      <td>0.27</td>\n",
       "    </tr>\n",
       "    <tr>\n",
       "      <th>5</th>\n",
       "      <td>19</td>\n",
       "      <td>0.19</td>\n",
       "    </tr>\n",
       "    <tr>\n",
       "      <th>6</th>\n",
       "      <td>27</td>\n",
       "      <td>0.27</td>\n",
       "    </tr>\n",
       "  </tbody>\n",
       "</table>\n",
       "</div>"
      ],
      "text/plain": [
       "      frequency  relative frequency\n",
       "dice                               \n",
       "1             5                0.05\n",
       "2             9                0.09\n",
       "3            13                0.13\n",
       "4            27                0.27\n",
       "5            19                0.19\n",
       "6            27                0.27"
      ]
     },
     "execution_count": 44,
     "metadata": {},
     "output_type": "execute_result"
    }
   ],
   "source": [
    "freq, _ = np.histogram(sample, bins = 6, range=(1, 7))\n",
    "pd.DataFrame({'frequency' : freq,\n",
    "              'relative frequency' : freq / num_trial},\n",
    "             index = pd.Index(np.arange(1, 7), name = 'dice'))"
   ]
  },
  {
   "cell_type": "code",
   "execution_count": 48,
   "id": "644f0e90-011e-4305-ad57-99119e7a4b43",
   "metadata": {},
   "outputs": [
    {
     "data": {
      "image/png": "[encoded data removed]",
      "text/plain": [
       "<Figure size 1000x600 with 1 Axes>"
      ]
     },
     "metadata": {},
     "output_type": "display_data"
    }
   ],
   "source": [
    "fig = plt.figure(figsize = (10, 6))\n",
    "ax = fig.add_subplot(111)\n",
    "ax.hist(sample, bins = 6, range=(1, 7), density = True, rwidth = 0.8)\n",
    "ax.hlines(prob, np.arange(1, 7), np.arange(2, 8), colors = 'gray')\n",
    "ax.set_xticks(np.linspace(1.5, 6.5, 6))\n",
    "ax.set_xticklabels(np.arange(1, 7))\n",
    "ax.set_xlabel('dice')\n",
    "ax.set_ylabel('relative frequency')\n",
    "plt.show()"
   ]
  },
  {
   "cell_type": "code",
   "execution_count": 52,
   "id": "081d77f9-0ee3-4e12-a859-b5d6e600848a",
   "metadata": {},
   "outputs": [
    {
     "data": {
      "image/png": "[encoded data removed]",
      "text/plain": [
       "<Figure size 1000x600 with 1 Axes>"
      ]
     },
     "metadata": {},
     "output_type": "display_data"
    }
   ],
   "source": [
    "num_trial = 10000\n",
    "sample = np.random.choice(dice, num_trial, p=prob)\n",
    "fig = plt.figure(figsize = (10, 6))\n",
    "ax = fig.add_subplot(111)\n",
    "ax.hist(sample, bins = 6, range=(1, 7), density = True, rwidth = 0.8)\n",
    "ax.hlines(prob, np.arange(1, 7), np.arange(2, 8), colors = 'gray')\n",
    "ax.set_xticks(np.linspace(1.5, 6.5, 6))\n",
    "ax.set_xticklabels(np.arange(1, 7))\n",
    "ax.set_xlabel('dice')\n",
    "ax.set_ylabel('relative frequency')\n",
    "plt.show()"
   ]
  },
  {
   "cell_type": "code",
   "execution_count": 62,
   "id": "5e2962e4-d564-45c5-b4d1-b950ee529d26",
   "metadata": {},
   "outputs": [
    {
     "data": {
      "image/png": "[encoded data removed]",
      "text/plain": [
       "<Figure size 1000x600 with 1 Axes>"
      ]
     },
     "metadata": {},
     "output_type": "display_data"
    }
   ],
   "source": [
    "fig = plt.figure(figsize = (10, 6))\n",
    "ax = fig.add_subplot(111)\n",
    "ax.hist(scores, bins = 100, range = (0, 100), density = True)\n",
    "ax.set_xlim(20, 100)\n",
    "ax.set_ylim(0, 0.042)\n",
    "ax.set_xlabel('score')\n",
    "ax.set_ylabel('relative frequency')\n",
    "plt.show()"
   ]
  },
  {
   "cell_type": "code",
   "execution_count": 59,
   "id": "adf651cc-e594-4dbc-9f61-85414dad6c55",
   "metadata": {},
   "outputs": [
    {
     "data": {
      "text/plain": [
       "np.int64(89)"
      ]
     },
     "execution_count": 59,
     "metadata": {},
     "output_type": "execute_result"
    }
   ],
   "source": [
    "np.random.choice(scores)"
   ]
  },
  {
   "cell_type": "code",
   "execution_count": 60,
   "id": "d635a95d-5526-4e64-bfee-2f4d326b5743",
   "metadata": {},
   "outputs": [
    {
     "data": {
      "image/png": "[encoded data removed]",
      "text/plain": [
       "<Figure size 1000x600 with 1 Axes>"
      ]
     },
     "metadata": {},
     "output_type": "display_data"
    }
   ],
   "source": [
    "sample = np.random.choice(scores, 10000)\n",
    "\n",
    "fig = plt.figure(figsize = (10, 6))\n",
    "ax = fig.add_subplot(111)\n",
    "ax.hist(sample, bins = 100, range = (0, 100), density = True)\n",
    "ax.set_xlim(20, 100)\n",
    "ax.set_ylim(0, 0.042)\n",
    "ax.set_xlabel('score')\n",
    "ax.set_ylabel('relative frequency')\n",
    "plt.show()"
   ]
  },
  {
   "cell_type": "code",
   "execution_count": null,
   "id": "345eb134-6db8-48e3-9186-335e8d595043",
   "metadata": {},
   "outputs": [],
   "source": []
  }
 ],
 "metadata": {
  "kernelspec": {
   "display_name": "Python 3 (ipykernel)",
   "language": "python",
   "name": "python3"
  },
  "language_info": {
   "codemirror_mode": {
    "name": "ipython",
    "version": 3
   },
   "file_extension": ".py",
   "mimetype": "text/x-python",
   "name": "python",
   "nbconvert_exporter": "python",
   "pygments_lexer": "ipython3",
   "version": "3.13.5"
  }
 },
 "nbformat": 4,
 "nbformat_minor": 5
}
